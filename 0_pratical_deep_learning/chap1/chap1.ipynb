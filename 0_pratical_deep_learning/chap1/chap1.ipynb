{
 "cells": [
  {
   "cell_type": "markdown",
   "metadata": {},
   "source": [
    "## first step"
   ]
  },
  {
   "cell_type": "code",
   "execution_count": 1,
   "metadata": {
    "collapsed": true
   },
   "outputs": [],
   "source": [
    "import numpy as np\n",
    "import chainer"
   ]
  },
  {
   "cell_type": "code",
   "execution_count": 2,
   "metadata": {
    "collapsed": true
   },
   "outputs": [],
   "source": [
    "x_data = np.asarray([2], dtype=np.float32)\n",
    "y_data = np.asarray([3], dtype=np.float32)"
   ]
  },
  {
   "cell_type": "code",
   "execution_count": 3,
   "metadata": {
    "collapsed": true
   },
   "outputs": [],
   "source": [
    "x = chainer.Variable(x_data)\n",
    "y = chainer.Variable(y_data)"
   ]
  },
  {
   "cell_type": "code",
   "execution_count": 5,
   "metadata": {
    "collapsed": false
   },
   "outputs": [
    {
     "name": "stdout",
     "output_type": "stream",
     "text": [
      "[ 32.]\n"
     ]
    }
   ],
   "source": [
    "z = x**2 + 10*y - 2\n",
    "print(z.data)"
   ]
  },
  {
   "cell_type": "code",
   "execution_count": 6,
   "metadata": {
    "collapsed": false
   },
   "outputs": [
    {
     "name": "stdout",
     "output_type": "stream",
     "text": [
      "[ 4.]\n",
      "[ 10.]\n"
     ]
    }
   ],
   "source": [
    "z.backward()\n",
    "print(x.grad)\n",
    "print(y.grad)"
   ]
  },
  {
   "cell_type": "markdown",
   "metadata": {},
   "source": [
    "## Functions"
   ]
  },
  {
   "cell_type": "code",
   "execution_count": 13,
   "metadata": {
    "collapsed": false
   },
   "outputs": [
    {
     "name": "stdout",
     "output_type": "stream",
     "text": [
      "[ 0.88079709]\n"
     ]
    }
   ],
   "source": [
    "x.zerograd() # 勾配の初期化\n",
    "s = chainer.functions.sigmoid(x)\n",
    "print(s.data)"
   ]
  },
  {
   "cell_type": "code",
   "execution_count": 14,
   "metadata": {
    "collapsed": false
   },
   "outputs": [
    {
     "name": "stdout",
     "output_type": "stream",
     "text": [
      "[ 0.10499357]\n",
      "[ 0.10499357]\n"
     ]
    }
   ],
   "source": [
    "s.backward()\n",
    "print(x.grad)\n",
    "print(((1-s)*s).data)"
   ]
  },
  {
   "cell_type": "markdown",
   "metadata": {},
   "source": [
    "## Links"
   ]
  },
  {
   "cell_type": "code",
   "execution_count": 36,
   "metadata": {
    "collapsed": false
   },
   "outputs": [
    {
     "name": "stdout",
     "output_type": "stream",
     "text": [
      "/W (3, 2)\n",
      "[[ 0.53433412  0.03996841]\n",
      " [-0.12559491 -0.36657995]\n",
      " [-1.27918077  0.34596011]]\n",
      "/b (3,)\n",
      "[ 0.  0.  0.]\n"
     ]
    }
   ],
   "source": [
    "fc = chainer.links.Linear(2, 3) #入力2, 出力3の全結合NN層\n",
    "for name, param in fc.namedparams():\n",
    "    print(name, param.data.shape) #パラメータ名とサイズ\n",
    "    print(param.data) #パラメータの値"
   ]
  },
  {
   "cell_type": "code",
   "execution_count": 38,
   "metadata": {
    "collapsed": false
   },
   "outputs": [
    {
     "name": "stdout",
     "output_type": "stream",
     "text": [
      "/W (2, 3, 5, 5)\n",
      "[[[[ 0.15858957 -0.0748275   0.00352767 -0.10600162 -0.09979915]\n",
      "   [ 0.12817955  0.03008411  0.01674165  0.08545738  0.10239564]\n",
      "   [ 0.00252704  0.10119335  0.00759445 -0.14500213 -0.10562113]\n",
      "   [-0.13388959  0.00271357  0.05773284 -0.13858567 -0.15422632]\n",
      "   [ 0.01531546 -0.06062151 -0.00527028 -0.11917926 -0.03412564]]\n",
      "\n",
      "  [[-0.06656039 -0.08426102 -0.00977844 -0.14890613  0.11918887]\n",
      "   [-0.03666651  0.1831675  -0.10069701  0.0282936   0.07972289]\n",
      "   [ 0.00762428 -0.02291361  0.03947306  0.03635543  0.15817608]\n",
      "   [-0.18774261 -0.21085855 -0.17480291  0.02014508  0.00048823]\n",
      "   [ 0.04985614 -0.03906743  0.08195363  0.149875   -0.06230555]]\n",
      "\n",
      "  [[-0.15829866 -0.14665368  0.11720715 -0.17458618  0.19159159]\n",
      "   [-0.01358328 -0.13076594 -0.03243548  0.15710692 -0.01656256]\n",
      "   [ 0.06290089 -0.0892431   0.08935644 -0.06508955 -0.02945987]\n",
      "   [ 0.11280536 -0.28148022 -0.04075379  0.02254223  0.0404037 ]\n",
      "   [-0.10478283  0.06052563  0.24409562  0.00994271  0.10362723]]]\n",
      "\n",
      "\n",
      " [[[ 0.04331708 -0.01299783 -0.06565889 -0.04892583 -0.00859348]\n",
      "   [ 0.06645845 -0.17325956  0.10616574  0.10115645 -0.06818567]\n",
      "   [-0.13082851 -0.01571908  0.11088735  0.05036125  0.15405516]\n",
      "   [ 0.0989724   0.38248804 -0.10835547 -0.03373069  0.10602114]\n",
      "   [ 0.1120386   0.08421479 -0.2018254   0.04532446  0.09545662]]\n",
      "\n",
      "  [[-0.08785286 -0.09416773  0.152291    0.14346433 -0.07302241]\n",
      "   [-0.01649968 -0.01617071  0.00874083  0.11570488  0.09092394]\n",
      "   [-0.0178098  -0.12105324 -0.04557109  0.04018758 -0.05214489]\n",
      "   [-0.21531478  0.16449691  0.10255044  0.06819634 -0.25072756]\n",
      "   [-0.02992197  0.22737177  0.14115743  0.09577357  0.08477511]]\n",
      "\n",
      "  [[-0.00071855  0.07150929 -0.07013431 -0.19003919  0.08772808]\n",
      "   [-0.10405783 -0.21248782 -0.07542078 -0.1285817  -0.25855631]\n",
      "   [ 0.02057915  0.05207289  0.05227551 -0.0021313  -0.00506288]\n",
      "   [-0.11214503 -0.26961967 -0.0530087   0.01933111 -0.05516108]\n",
      "   [ 0.07210584 -0.05689926  0.15664385  0.05814835 -0.15865992]]]]\n",
      "/b (2,)\n",
      "[ 0.  0.]\n"
     ]
    }
   ],
   "source": [
    "conv = chainer.links.Convolution2D(3, 2, (5,5)) #入力特徴マップ3, 出力特徴マップ2, カーネルサイズ5x5\n",
    "for name, param in conv.namedparams():\n",
    "    print(name, param.data.shape) #パラメータ名とサイズ\n",
    "    print(param.data) #パラメータの値"
   ]
  },
  {
   "cell_type": "code",
   "execution_count": 39,
   "metadata": {
    "collapsed": false
   },
   "outputs": [
    {
     "name": "stdout",
     "output_type": "stream",
     "text": [
      "[[ 0.61427093 -0.85875481 -0.58726054]\n",
      " [ 1.76287591 -1.8431046  -2.45370197]]\n"
     ]
    }
   ],
   "source": [
    "# Linkへ投げる入力変数はデータのミニバッチ\n",
    "d_data = np.asarray([[1,2],                   #1番目のデータ\n",
    "                    [3,4]], dtype=np.float32) #2番目のデータ\n",
    "d = chainer.Variable(d_data)\n",
    "ret = fc(d)\n",
    "print(ret.data)"
   ]
  },
  {
   "cell_type": "code",
   "execution_count": 44,
   "metadata": {
    "collapsed": false
   },
   "outputs": [
    {
     "name": "stdout",
     "output_type": "stream",
     "text": [
      "[[[[-6.05686092 -0.41110778]\n",
      "   [-2.68121386 -1.07041752]]\n",
      "\n",
      "  [[ 0.08105962 -0.2516928 ]\n",
      "   [-4.33526564  0.94333905]]]]\n"
     ]
    }
   ],
   "source": [
    "# Linkへ投げる入力変数はデータのミニバッチ\n",
    "d_data = np.asarray([\n",
    "                    [[[1,2,0,1,2,0], # 1チャンネル目\n",
    "                      [3,4,0,3,4,0],\n",
    "                      [5,6,0,5,6,0],\n",
    "                      [7,8,0,7,8,0],\n",
    "                      [9,1,0,9,1,0],\n",
    "                      [2,3,0,2,3,0]],\n",
    "                     [[1,2,0,1,2,0], # 2チャンネル目\n",
    "                      [3,4,0,3,4,0],\n",
    "                      [5,6,0,5,6,0],\n",
    "                      [7,8,0,7,8,0],\n",
    "                      [9,1,0,9,1,0],\n",
    "                      [2,3,0,2,3,0]],\n",
    "                     [[1,2,0,1,2,0], # 3チャンネル目\n",
    "                      [3,4,0,3,4,0],\n",
    "                      [5,6,0,5,6,0],\n",
    "                      [7,8,0,7,8,0],\n",
    "                      [9,1,0,9,1,0],\n",
    "                      [2,3,0,2,3,0]]],\n",
    "                    # 次のデータが続く...\n",
    "                    ], dtype=np.float32) #2番目のデータ\n",
    "d = chainer.Variable(d_data)\n",
    "ret = conv(d)\n",
    "print(ret.data)"
   ]
  },
  {
   "cell_type": "code",
   "execution_count": null,
   "metadata": {
    "collapsed": true
   },
   "outputs": [],
   "source": []
  }
 ],
 "metadata": {
  "kernelspec": {
   "display_name": "Python 3",
   "language": "python",
   "name": "python3"
  },
  "language_info": {
   "codemirror_mode": {
    "name": "ipython",
    "version": 3
   },
   "file_extension": ".py",
   "mimetype": "text/x-python",
   "name": "python",
   "nbconvert_exporter": "python",
   "pygments_lexer": "ipython3",
   "version": "3.4.5"
  }
 },
 "nbformat": 4,
 "nbformat_minor": 0
}
